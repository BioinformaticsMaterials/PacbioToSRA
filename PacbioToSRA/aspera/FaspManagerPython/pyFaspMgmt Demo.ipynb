{
 "metadata": {
  "name": "",
  "signature": "sha256:3bdee96e2d2739b4a607ce02c851ce49451eaee0453b1c0d6bc83121d1bf165a"
 },
 "nbformat": 3,
 "nbformat_minor": 0,
 "worksheets": [
  {
   "cells": [
    {
     "cell_type": "code",
     "collapsed": false,
     "input": [
      "import time\n",
      "import pyfaspmgmt"
     ],
     "language": "python",
     "metadata": {},
     "outputs": [],
     "prompt_number": 4
    },
    {
     "cell_type": "code",
     "collapsed": false,
     "input": [
      "session = pyfaspmgmt.FaspSend( \n",
      "  \"root\", \n",
      "  \"66.211.105.167\", \n",
      "  src_files=['/home/bear/test/0','/home/bear/test/1'], \n",
      "  key_file=\"/home/bear/.ssh/id_dsa\",\n",
      "  args = ['--precalculate-job-size',] )"
     ],
     "language": "python",
     "metadata": {},
     "outputs": [],
     "prompt_number": 2
    },
    {
     "cell_type": "code",
     "collapsed": false,
     "input": [
      "import statusbar\n",
      "statusbar.new()\n",
      "\n",
      "while session.status() not in (\"DONE\", \"ERROR\"):\n",
      "  try:\n",
      "    statusbar.update(session.pct_complete())\n",
      "  except:\n",
      "    pass\n",
      "  time.sleep(1)\n",
      "\n",
      "if session.status() == \"DONE\":\n",
      "  statusbar.update(100)\n",
      "  print \"File Transfer Successful\"\n",
      "else:\n",
      "  print \"Transfer Failed\"\n",
      "  print \"\\n\".join(session.errs)\n"
     ],
     "language": "python",
     "metadata": {},
     "outputs": [
      {
       "output_type": "stream",
       "stream": "stderr",
       "text": [
        "ERROR:pyFaspMgmt:Error calling ASCP; [Errno 2] No such file or directory\n",
        "  File \"pyfaspmgmt.py\", line 84, in ascp_thread\n",
        "    output = subprocess.check_output( args, env=env, stderr=subprocess.STDOUT )\n",
        "  File \"/usr/lib/python2.7/subprocess.py\", line 566, in check_output\n",
        "    process = Popen(stdout=PIPE, *popenargs, **kwargs)\n",
        "  File \"/usr/lib/python2.7/subprocess.py\", line 710, in __init__\n",
        "    errread, errwrite)\n",
        "  File \"/usr/lib/python2.7/subprocess.py\", line 1327, in _execute_child\n",
        "    raise child_exception\n",
        "ERROR:pyFaspMgmt:['  File \"pyfaspmgmt.py\", line 84, in ascp_thread\\n    output = subprocess.check_output( args, env=env, stderr=subprocess.STDOUT )\\n', '  File \"/usr/lib/python2.7/subprocess.py\", line 566, in check_output\\n    process = Popen(stdout=PIPE, *popenargs, **kwargs)\\n', '  File \"/usr/lib/python2.7/subprocess.py\", line 710, in __init__\\n    errread, errwrite)\\n', '  File \"/usr/lib/python2.7/subprocess.py\", line 1327, in _execute_child\\n    raise child_exception\\n']\n"
       ]
      },
      {
       "html": [
        "\n",
        "  <div style=\"border: 1px solid black; width:500px\">\n",
        "    <div id=\"4452a0b7-028e-4039-8bec-b9f663481f7a\" style=\"background-color:blue; width:0%\">&nbsp;</div>\n",
        "    </div> \n",
        "    "
       ],
       "metadata": {},
       "output_type": "display_data",
       "text": [
        "<IPython.core.display.HTML at 0x7f86bc311190>"
       ]
      },
      {
       "output_type": "stream",
       "stream": "stdout",
       "text": [
        "Transfer Failed\n",
        "Error calling ASCP; [Errno 2] No such file or directory\n"
       ]
      }
     ],
     "prompt_number": 3
    },
    {
     "cell_type": "code",
     "collapsed": false,
     "input": [],
     "language": "python",
     "metadata": {},
     "outputs": []
    }
   ],
   "metadata": {}
  }
 ]
}